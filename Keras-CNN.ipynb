{
 "cells": [
  {
   "cell_type": "code",
   "execution_count": 10,
   "metadata": {},
   "outputs": [],
   "source": [
    "import tensorflow as tf"
   ]
  },
  {
   "cell_type": "code",
   "execution_count": 11,
   "metadata": {},
   "outputs": [],
   "source": [
    "import numpy as np\n",
    "import pandas as pd\n",
    "import pickle\n",
    "import matplotlib.pyplot as plt\n",
    "\n",
    "%matplotlib inline"
   ]
  },
  {
   "cell_type": "code",
   "execution_count": 12,
   "metadata": {},
   "outputs": [],
   "source": [
    "from tensorflow.keras.models import Sequential\n",
    "from tensorflow.keras.layers import Dense,Dropout,Activation\n",
    "from tensorflow.keras.layers import Flatten,Conv2D,MaxPool2D"
   ]
  },
  {
   "cell_type": "code",
   "execution_count": 13,
   "metadata": {},
   "outputs": [],
   "source": [
    "x=pickle.load(open('x_data.pickle','rb'))\n",
    "y=pickle.load(open('y_label.pickle','rb'))"
   ]
  },
  {
   "cell_type": "code",
   "execution_count": 14,
   "metadata": {},
   "outputs": [],
   "source": [
    "x=x/255.0"
   ]
  },
  {
   "cell_type": "code",
   "execution_count": 23,
   "metadata": {},
   "outputs": [],
   "source": []
  },
  {
   "cell_type": "code",
   "execution_count": 25,
   "metadata": {},
   "outputs": [],
   "source": [
    "model=Sequential()\n",
    "\n",
    "model.add(Conv2D(64,(3,3),input_shape=x.shape[1:]))\n",
    "model.add(Activation('relu'))\n",
    "model.add(MaxPool2D(pool_size=(2,2)))\n",
    "\n",
    "model.add(Conv2D(64,(3,3)))\n",
    "model.add(Activation('relu'))\n",
    "model.add(MaxPool2D(pool_size=(2,2)))\n",
    "\n",
    "model.add(Flatten())\n",
    "model.add(Dense(64))\n",
    "model.add(Dense(1))\n",
    "model.add(Activation('sigmoid'))"
   ]
  },
  {
   "cell_type": "code",
   "execution_count": 28,
   "metadata": {},
   "outputs": [],
   "source": [
    "model.compile(optimizer='adam',loss='binary_crossentropy',\n",
    "              metrics=['accuracy'])"
   ]
  },
  {
   "cell_type": "code",
   "execution_count": 29,
   "metadata": {},
   "outputs": [
    {
     "name": "stdout",
     "output_type": "stream",
     "text": [
      "Train on 22451 samples, validate on 2495 samples\n",
      "Epoch 1/10\n",
      "22451/22451 [==============================] - 138s 6ms/sample - loss: 0.6453 - acc: 0.6273 - val_loss: 0.6300 - val_acc: 0.6505\n",
      "Epoch 2/10\n",
      "22451/22451 [==============================] - 137s 6ms/sample - loss: 0.5635 - acc: 0.7136 - val_loss: 0.5343 - val_acc: 0.7375\n",
      "Epoch 3/10\n",
      "22451/22451 [==============================] - 135s 6ms/sample - loss: 0.4979 - acc: 0.7629 - val_loss: 0.4813 - val_acc: 0.7747\n",
      "Epoch 4/10\n",
      "22451/22451 [==============================] - 134s 6ms/sample - loss: 0.4614 - acc: 0.7829 - val_loss: 0.4656 - val_acc: 0.7800\n",
      "Epoch 5/10\n",
      "22451/22451 [==============================] - 134s 6ms/sample - loss: 0.4270 - acc: 0.8001 - val_loss: 0.4643 - val_acc: 0.7852\n",
      "Epoch 6/10\n",
      "22451/22451 [==============================] - 140s 6ms/sample - loss: 0.4085 - acc: 0.8148 - val_loss: 0.4442 - val_acc: 0.7960\n",
      "Epoch 7/10\n",
      "22451/22451 [==============================] - 148s 7ms/sample - loss: 0.3831 - acc: 0.8270 - val_loss: 0.4521 - val_acc: 0.8000\n",
      "Epoch 8/10\n",
      "22451/22451 [==============================] - 135s 6ms/sample - loss: 0.3724 - acc: 0.8330 - val_loss: 0.4354 - val_acc: 0.8104\n",
      "Epoch 9/10\n",
      "22451/22451 [==============================] - 133s 6ms/sample - loss: 0.3606 - acc: 0.8401 - val_loss: 0.4334 - val_acc: 0.8028\n",
      "Epoch 10/10\n",
      "22451/22451 [==============================] - 134s 6ms/sample - loss: 0.3435 - acc: 0.8470 - val_loss: 0.4368 - val_acc: 0.8188\n"
     ]
    },
    {
     "data": {
      "text/plain": [
       "<tensorflow.python.keras.callbacks.History at 0x1e916f47e48>"
      ]
     },
     "execution_count": 29,
     "metadata": {},
     "output_type": "execute_result"
    }
   ],
   "source": [
    "model.fit(x,y,epochs=10,batch_size=32,validation_split=0.1)"
   ]
  },
  {
   "cell_type": "code",
   "execution_count": null,
   "metadata": {},
   "outputs": [],
   "source": []
  }
 ],
 "metadata": {
  "kernelspec": {
   "display_name": "Python 3",
   "language": "python",
   "name": "python3"
  },
  "language_info": {
   "codemirror_mode": {
    "name": "ipython",
    "version": 3
   },
   "file_extension": ".py",
   "mimetype": "text/x-python",
   "name": "python",
   "nbconvert_exporter": "python",
   "pygments_lexer": "ipython3",
   "version": "3.7.3"
  }
 },
 "nbformat": 4,
 "nbformat_minor": 2
}
